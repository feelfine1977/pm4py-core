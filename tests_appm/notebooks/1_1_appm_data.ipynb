{
 "cells": [
  {
   "cell_type": "markdown",
   "metadata": {},
   "source": [
    "## Test the data for ap_pm"
   ]
  },
  {
   "cell_type": "markdown",
   "metadata": {},
   "source": [
    "### Import data from csv and convert it to pm4py log. \n",
    "\n",
    "pm4py uses standardized column names to represent the *case identifier*, the *activity name* and the timstamp.\n",
    "These are, respectively, ```case:concept:name```, ```concept:name``` and ```time:timestamp```.\n",
    "Hence, to make pm4py work with the provided csv file, we need to rename the ```case_id```, ```activity``` and ```timestamp``` columns."
   ]
  },
  {
   "cell_type": "code",
   "execution_count": 373,
   "metadata": {},
   "outputs": [],
   "source": [
    "import numpy as np\n",
    "import pandas as pd\n",
    "import os \n",
    "import pm4py\n",
    "import matplotlib.pyplot as plt\n",
    "import networkx as nx\n",
    "\n",
    "\n",
    "from pm4py.objects.dfg.retrieval.log import native\n",
    "from pm4py.statistics.traces.generic.log import case_statistics\n",
    "from pm4py.algo.filtering.log.attributes import attributes_filter as log_attributes_filter\n",
    "from pm4py.statistics.traces.generic.log import case_statistics\n",
    "\n",
    "\n",
    "#Default path for data for notebooks\n",
    "PATH = os.path.join(  \"data\")"
   ]
  },
  {
   "cell_type": "markdown",
   "metadata": {},
   "source": [
    "Get data for further analysis. The data is read from csv and exported to xes."
   ]
  },
  {
   "cell_type": "code",
   "execution_count": 374,
   "metadata": {},
   "outputs": [],
   "source": [
    "def get_data(path=PATH, sep=';' ,file_csv=\"p2p_simple.csv\", file_xes=\"p2p_simple.xes\", write=False):\n",
    "    path_csv = os.path.join( path, file_csv)\n",
    "    path_xes = os.path.join( path, file_xes)\n",
    "    df = pd.read_csv(path_csv, sep=sep)\n",
    "    log_csv = pm4py.format_dataframe(df, case_id='case_id',activity_key='activity',\n",
    "                             timestamp_key='timestamp')\n",
    "    if write:\n",
    "        pm4py.write_xes(log_csv, path_xes)\n",
    "    return pm4py.read_xes(path_xes)  "
   ]
  },
  {
   "cell_type": "code",
   "execution_count": 375,
   "metadata": {},
   "outputs": [],
   "source": [
    "def get_time(input='sec',output='day', num=0):\n",
    "    if input == 'sec':\n",
    "        if output == 'day':\n",
    "            return num/86400\n",
    "        else:\n",
    "            return num\n",
    "    else:\n",
    "        return num\n"
   ]
  },
  {
   "cell_type": "markdown",
   "metadata": {},
   "source": [
    "xes log stores data as cases , df stores all events"
   ]
  },
  {
   "cell_type": "code",
   "execution_count": 376,
   "metadata": {},
   "outputs": [
    {
     "name": "stderr",
     "output_type": "stream",
     "text": [
      "exporting log, completed traces :: 100%|██████████| 2/2 [00:00<00:00, 3407.23it/s]\n",
      "parsing log, completed traces :: 100%|██████████| 2/2 [00:00<00:00, 1490.25it/s]"
     ]
    },
    {
     "name": "stdout",
     "output_type": "stream",
     "text": [
      "start activities: {'Create Purchase Request': 1, 'Create Purchase Order': 1}\n",
      "end activities: {'Pay Invoice': 1, 'Create Goods Receipt': 1}\n",
      "case duration: [37217520.0, 37464240.0]\n",
      "total number of events: 10\n",
      "total number of traces: 2\n",
      "average trace size: 5.0\n",
      "average trace size: 5.0\n"
     ]
    },
    {
     "name": "stderr",
     "output_type": "stream",
     "text": [
      "\n"
     ]
    }
   ],
   "source": [
    "#default file is p2p_simple.csv\n",
    "log = get_data(file_csv='p2p_simple.csv', write=True)\n",
    "print('start activities: {}'.format(pm4py.get_start_activities(log))) #get start activities\n",
    "print('end activities: {}'.format(pm4py.get_end_activities(log))) #get end activities\n",
    "print('case duration: {}'.format(pm4py.get_all_case_durations(log))) #get case duration\n",
    "print('total number of events: {}'.format(sum(len(case) for case in log))) # total number of events\n",
    "print('total number of traces: {}'.format(len(log)))#total number of traces\n",
    "print('average trace size: {}'.format((sum(len(case) for case in log))/ (len(log)))) #average trace length\n",
    "print('average trace size: {}'.format(len([(event[\"concept:name\"]) for case in log for event in case]) / len(log))) #average trace size\n",
    "\n"
   ]
  },
  {
   "cell_type": "markdown",
   "metadata": {},
   "source": [
    "## Statistics \n",
    "\n",
    "pm4py statistics modules offer a lot of different methods for statistical analysis of logs\n",
    "\n",
    "### Variants"
   ]
  },
  {
   "cell_type": "code",
   "execution_count": 377,
   "metadata": {},
   "outputs": [
    {
     "name": "stdout",
     "output_type": "stream",
     "text": [
      "number of variants: 2\n",
      "variants sorted by count: [[('Create Purchase Request', 'Create Purchase Order', 'Create Invoice', 'Create Goods Receipt', 'Pay Invoice'), 1], [('Create Purchase Order', 'Create Invoice', 'Create Goods Receipt', 'Pay Invoice', 'Create Goods Receipt'), 1]]\n",
      "KEYS:\n",
      "('Create Purchase Request', 'Create Purchase Order', 'Create Invoice', 'Create Goods Receipt', 'Pay Invoice')\n",
      "('Create Purchase Order', 'Create Invoice', 'Create Goods Receipt', 'Pay Invoice', 'Create Goods Receipt')\n"
     ]
    }
   ],
   "source": [
    "import pm4py.statistics.variants.log.get as stats_var\n",
    "\n",
    "print('number of variants: {}'.format(len(pm4py.get_variants_as_tuples(log))))\n",
    "variants = stats_var.get_variants(log)\n",
    "print('variants sorted by count: {}'.format(stats_var.get_variants_sorted_by_count(variants)))\n",
    "print('KEYS:')\n",
    "for key,value in variants.items():\n",
    "    print(key) #values are the data for each case\n"
   ]
  },
  {
   "cell_type": "markdown",
   "metadata": {},
   "source": [
    "### Case Statistics"
   ]
  },
  {
   "cell_type": "code",
   "execution_count": 378,
   "metadata": {},
   "outputs": [
    {
     "name": "stdout",
     "output_type": "stream",
     "text": [
      "variants with statistics: [{'variant': ('Create Purchase Request', 'Create Purchase Order', 'Create Invoice', 'Create Goods Receipt', 'Pay Invoice'), 'count': 1}, {'variant': ('Create Purchase Order', 'Create Invoice', 'Create Goods Receipt', 'Pay Invoice', 'Create Goods Receipt'), 'count': 1}]\n",
      "Cases with durations:\n",
      "1 -> 434 days\n",
      "2 -> 431 days\n",
      "Events List FOR CASE 1 (only first activity in the list): Create Purchase Request\n",
      "Median Duration: 434 days\n"
     ]
    }
   ],
   "source": [
    "import pm4py.statistics.traces.generic.log.case_statistics as stats_cases\n",
    "import pm4py.statistics.sojourn_time.log.get as stats_sojourn\n",
    "\n",
    "print('variants with statistics: {}'.format(stats_cases.get_variant_statistics(log)))\n",
    "cases_desc = stats_cases.get_cases_description(log)\n",
    "print('Cases with durations:')\n",
    "for key, value in cases_desc.items():\n",
    "    print(key,'->', round(get_time(num=value['caseDuration'])), 'days')\n",
    "#print('CASES DESCRIPTION: {}'.format(stats_cases.get_cases_description(log)[0]))\n",
    "print('Events List FOR CASE 1 (only first activity in the list): {}'.format(stats_cases.get_events(log, case_id='1')[0]['activity']))\n",
    "print('Median Duration: {}'.format(round(get_time(num=stats_cases.get_median_case_duration(log)))), 'days')\n",
    "#https://en.wikipedia.org/wiki/Kernel_density_estimation\n",
    "#print('KDE Duration: {}'.format(stats_cases.get_kde_caseduration_json(log)))\n",
    "#events in p2p_simple log do not have duration(sojourn) otherwise there should be start_timestamp for each activity\n",
    "#print(stats_sojourn.apply(log))\n"
   ]
  },
  {
   "cell_type": "code",
   "execution_count": 379,
   "metadata": {},
   "outputs": [
    {
     "name": "stdout",
     "output_type": "stream",
     "text": [
      "avg time between case begins: 86 days\n",
      "avg time between case ends: 83 days\n",
      "['@@index', 'concept:name', 'activity', 'org:resource', 'timestamp', 'time:timestamp', 'case_id', 'costs']\n",
      "events -> count:  {'Create Purchase Request': 1, 'Create Purchase Order': 2, 'Create Invoice': 2, 'Create Goods Receipt': 3, 'Pay Invoice': 2}\n",
      "costs -> count:  {50: 1, 400: 2, 100: 2, 200: 5}\n",
      "org:resource -> count:  {'Matthias': 1, 'Stephen': 3, 'Eilen': 2, 'Sarah': 1, 'Lea': 2, 'Majorie': 1}\n",
      "VARIANTS\n",
      "('Create Purchase Request', 'Create Purchase Order', 'Create Invoice', 'Create Goods Receipt', 'Pay Invoice')\n",
      "('Create Purchase Order', 'Create Invoice', 'Create Goods Receipt', 'Pay Invoice', 'Create Goods Receipt')\n",
      "REWORK for partial log\n",
      "{'Create Purchase Order': 1, 'Create Invoice': 1, 'Create Goods Receipt': 1}\n",
      "Position summary for create invoice\n",
      "{2: 3, 1: 6, 3: 1}\n"
     ]
    }
   ],
   "source": [
    "import pm4py.statistics.traces.generic.log.case_arrival as stats_casearr\n",
    "import pm4py.stats as stats \n",
    "\n",
    "print('avg time between case begins:',round(get_time(num=stats_casearr.get_case_arrival_avg(log))), 'days')\n",
    "print('avg time between case ends:', round(get_time(num=stats_casearr.get_case_dispersion_avg(log))),'days')\n",
    "print(stats.get_event_attributes(log))\n",
    "print('events -> count: ', stats.get_event_attribute_values(log=log, attribute='activity'))\n",
    "print('costs -> count: ', stats.get_event_attribute_values(log=log, attribute='costs'))\n",
    "print('org:resource -> count: ', stats.get_event_attribute_values(log=log, attribute='org:resource'))\n",
    "\n",
    "print('VARIANTS')\n",
    "variants = stats.get_variants_as_tuples(log)\n",
    "for key,value in variants.items():\n",
    "    print(key)\n",
    "print('REWORK for partial log')\n",
    "print(stats.get_rework_cases_per_activity(log_partial))\n",
    "print('Position summary for create invoice')\n",
    "print(stats.get_activity_position_summary(log_partial, 'Create Invoice'))\n"
   ]
  },
  {
   "cell_type": "markdown",
   "metadata": {},
   "source": [
    "## Process Discovery"
   ]
  },
  {
   "cell_type": "code",
   "execution_count": 380,
   "metadata": {},
   "outputs": [
    {
     "data": {
      "image/png": "[encoded data removed]",
      "text/plain": [
       "<IPython.core.display.Image object>"
      ]
     },
     "metadata": {},
     "output_type": "display_data"
    },
    {
     "data": {
      "image/png": "[encoded data removed]",
      "text/plain": [
       "<IPython.core.display.Image object>"
      ]
     },
     "metadata": {},
     "output_type": "display_data"
    }
   ],
   "source": [
    "bpmn_model = pm4py.discover_bpmn_inductive(log)\n",
    "pm4py.view_bpmn(bpmn_model)\n",
    "net, im, fm = pm4py.discover_petri_net_inductive(log)\n",
    "pm4py.view_petri_net(net, im, fm)"
   ]
  },
  {
   "cell_type": "markdown",
   "metadata": {},
   "source": [
    "## Alignments"
   ]
  },
  {
   "cell_type": "code",
   "execution_count": 381,
   "metadata": {},
   "outputs": [],
   "source": [
    "#TODO \n"
   ]
  },
  {
   "cell_type": "markdown",
   "metadata": {},
   "source": [
    "# LP Data from log\n",
    "\n",
    "### Edges\n",
    "\n",
    "### Nodes\n",
    "node(0).\n",
    "node(1).\n",
    "node(2).\n",
    "node(3).\n",
    "node(4).\n",
    "\n",
    "labelname(1,\"DRIVE\").\n",
    "labelname(2,\"LOAD\").\n",
    "labelname(3,\"UNLOAD\")."
   ]
  },
  {
   "cell_type": "code",
   "execution_count": 473,
   "metadata": {},
   "outputs": [
    {
     "name": "stdout",
     "output_type": "stream",
     "text": [
      "NODES:\n",
      "[0, 1, 2, 3, 4]\n",
      "EDGES\n",
      "[(0, 4), (1, 0), (2, 1), (3, 2), (4, 0)]\n"
     ]
    }
   ],
   "source": [
    "# Returns the names of all events in the log\n",
    "def get_event_names(log):\n",
    "    events = log_attributes_filter.get_attribute_values(log, \"concept:name\")\n",
    "    event_list = sorted([*events])\n",
    "    event_dict = {b: a for a,b in enumerate(event_list)}\n",
    "    return event_dict\n",
    "\n",
    "def get_event_num(log=log, name=''):\n",
    "    events_dict = get_event_names(log)\n",
    "    return dict((x, y) for x, y in events_dict.items())[name]\n",
    "\n",
    "def get_event_name(log=log, number=0):\n",
    "    events_dict = get_event_names(log)\n",
    "    return dict((y, x) for x, y in events_dict.items())[number]\n",
    "\n",
    "def create_adjacency_matrix(log):\n",
    "    events = get_event_names(log)\n",
    "    edges = [list(i) for i in [*(native(log))]]\n",
    "    for edge in range(len(edges)):\n",
    "        for node in range(len(edges[edge])):\n",
    "            edges[edge][node] = events[edges[edge][node]]\n",
    "            \n",
    "    adjac_matrix = np.zeros(shape=(len(get_event_names(log)),len(get_event_names(log))))\n",
    "    \n",
    "    for (i,j) in edges:\n",
    "        adjac_matrix[i][j] += 1\n",
    "\n",
    "    return np.asarray(adjac_matrix)\n",
    "\n",
    "\n",
    "#print(get_event_names(log))\n",
    "adj_matrix = create_adjacency_matrix(log)\n",
    "#print('Number for Create Invoice:',get_event_num(log, 'Create Invoice'))\n",
    "#print('Key for Event 4:',get_event_name(log, 4))\n",
    "\n",
    "print('NODES:')\n",
    "nodes_names = list(get_event_names(log).keys())\n",
    "nodes = list(get_event_names(log).values())\n",
    "print(nodes)\n",
    "\n",
    "print('EDGES')\n",
    "edges_names = []\n",
    "edges = []\n",
    "for x,y in np.ndenumerate(adj_matrix):\n",
    "    if y == 1:\n",
    "        edges_names.append(get_event_name(log,x[0])+ '->'+ get_event_name(log, x[1]))\n",
    "        edges.append((x[0], x[1]))\n",
    "        \n",
    "print(edges)\n",
    "\n"
   ]
  },
  {
   "cell_type": "code",
   "execution_count": 434,
   "metadata": {},
   "outputs": [],
   "source": [
    "import csv \n",
    "\n",
    "def write_file_for_michal():\n",
    "    pass\n",
    "#TODO Michal what do I need to pass to you "
   ]
  },
  {
   "cell_type": "code",
   "execution_count": 461,
   "metadata": {},
   "outputs": [
    {
     "name": "stdout",
     "output_type": "stream",
     "text": [
      "EDGES:\n",
      "[('Create Goods Receipt', 'Pay Invoice'), ('Pay Invoice', 'Create Goods Receipt'), ('Create Invoice', 'Create Goods Receipt'), ('Create Purchase Order', 'Create Invoice'), ('Create Purchase Request', 'Create Purchase Order')]\n",
      "ITEMS\n",
      "(('Create Goods Receipt', 'Pay Invoice'), {})\n",
      "(('Pay Invoice', 'Create Goods Receipt'), {})\n",
      "(('Create Invoice', 'Create Goods Receipt'), {})\n",
      "(('Create Purchase Order', 'Create Invoice'), {})\n",
      "(('Create Purchase Request', 'Create Purchase Order'), {})\n",
      "NODES:\n",
      "['Create Goods Receipt', 'Pay Invoice', 'Create Invoice', 'Create Purchase Order', 'Create Purchase Request']\n",
      "['Create Goods Receipt', 'Pay Invoice', 'Create Invoice', 'Create Purchase Order', 'Create Purchase Request']\n"
     ]
    },
    {
     "data": {
      "image/png": "[encoded data removed]",
      "text/plain": [
       "<Figure size 432x288 with 1 Axes>"
      ]
     },
     "metadata": {},
     "output_type": "display_data"
    }
   ],
   "source": [
    "\n",
    "# Create directed graph\n",
    "def create_directed_graph(log):\n",
    "    DG = nx.DiGraph()\n",
    "    matrix = create_adjacency_matrix(log)\n",
    "    number_for_event = get_event_names(log)\n",
    "    event_for_number = dict((y, x) for x, y in number_for_event.items())\n",
    "    \n",
    "    for row in range(len(matrix)):\n",
    "        for event in range(len(matrix[row])):\n",
    "                if matrix[row][event] > 0:\n",
    "                    DG.add_edge(event_for_number[row], event_for_number[event])\n",
    "                    DG.add_node(event_for_number[row])\n",
    "                    \n",
    "    return DG\n",
    "\n",
    "def draw_graph(log, path=PATH, file='path_p2p_simple.png'):\n",
    "    path_path = os.path.join( path, file)\n",
    "    G = create_directed_graph(log)\n",
    "    print('EDGES:')\n",
    "    print(list(G.edges)) \n",
    "    edges = G.edges\n",
    "    print('ITEMS')\n",
    "    for item in G.edges.items():\n",
    "        print(item)\n",
    "    print('NODES:')\n",
    "    print(list(G.nodes))\n",
    "    subax1 = plt.subplot(121)\n",
    "    edges_with_labels = { x: (x,y) for (x,y) in G.edges}\n",
    "    print([key for key in edges_with_labels])\n",
    "    #nx.draw_networkx_edge_labels(G, edge_labels=edges, pos=nx.spring_layout(G))\n",
    "    #nx.draw_networkx_edges(G,edgelist=edges, pos=nx.spring_layout(G))\n",
    "    nx.draw(G, with_labels = True)\n",
    "    plt.savefig(path_path)\n",
    "    plt.show()\n",
    "\n",
    "def testing(log):\n",
    "    G = create_directed_graph(log)\n",
    "    print('Edges:')\n",
    "    print(list(G.edges))\n",
    "    print('Edges with labels')\n",
    "    edges_with_labels = { x: (x,y) for (x,y) in G.edges}\n",
    "\n",
    "draw_graph(log)\n",
    "\n"
   ]
  }
 ],
 "metadata": {
  "interpreter": {
   "hash": "8105f2b348ab8c89d36a9213b833aadaa454354889ba920b08d658bdad66d1a1"
  },
  "kernelspec": {
   "display_name": "Python 3.9.7 64-bit",
   "language": "python",
   "name": "python3"
  },
  "language_info": {
   "codemirror_mode": {
    "name": "ipython",
    "version": 3
   },
   "file_extension": ".py",
   "mimetype": "text/x-python",
   "name": "python",
   "nbconvert_exporter": "python",
   "pygments_lexer": "ipython3",
   "version": "3.9.7"
  },
  "orig_nbformat": 4
 },
 "nbformat": 4,
 "nbformat_minor": 2
}
